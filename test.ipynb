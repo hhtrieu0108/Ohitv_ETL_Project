{
 "cells": [
  {
   "cell_type": "code",
   "execution_count": 1,
   "metadata": {},
   "outputs": [],
   "source": [
    "import requests\n",
    "from bs4 import BeautifulSoup\n",
    "\n",
    "def get_soup(url: str) -> BeautifulSoup:\n",
    "    html = requests.get(url)\n",
    "    soup = BeautifulSoup(html.text,'html.parser')\n",
    "    return soup\n",
    "\n",
    "def get_url(ti) -> list:\n",
    "    url = \"https://ohitv.net/\"\n",
    "    soup = get_soup(url)\n",
    "    kind_menu = soup.find_all('ul',class_='sub-menu')[1].find_all('a',href=True)\n",
    "    kind_link = [link for link in kind_menu]\n",
    "    kind_href = [link['href'] for link in kind_link]\n",
    "    ti.xcom_push(key='get_url',value=kind_href)\n",
    "\n",
    "def get_page(soup: BeautifulSoup) -> list:\n",
    "    pages = []\n",
    "    page_list = soup.find_all('div',class_='pagination')\n",
    "    for page_number in page_list:\n",
    "        for page_href in page_number.find_all('a',href=True):\n",
    "            pages.append(page_href['href'])\n",
    "    return pages\n",
    "\n",
    "def crawl_id(kind_href: list) -> list:\n",
    "    id = []\n",
    "    for link in kind_href:\n",
    "        soup = get_soup(link)\n",
    "        data_html = soup.find('div',class_='items normal').find_all('article')\n",
    "        id_1 = [id_param['id'] for id_param in data_html]\n",
    "        id.extend(id_1)\n",
    "        pages = get_page(soup=soup)\n",
    "        for page in pages:\n",
    "            soup = get_soup(page)\n",
    "            data_html = soup.find('div',class_='items normal').find_all('article')\n",
    "            id_2 = [id_param['id'] for id_param in data_html]\n",
    "            id.extend(id_2)\n",
    "    return id"
   ]
  },
  {
   "cell_type": "code",
   "execution_count": 2,
   "metadata": {},
   "outputs": [],
   "source": [
    "re = requests.get(\"https://ohitv.net/the-loai/phim-chieu-rap/\")"
   ]
  },
  {
   "cell_type": "code",
   "execution_count": 4,
   "metadata": {},
   "outputs": [],
   "source": [
    "soup = BeautifulSoup(re.text, 'html.parser')"
   ]
  },
  {
   "cell_type": "code",
   "execution_count": 18,
   "metadata": {},
   "outputs": [],
   "source": [
    "data_html = soup.find('div',class_='items normal').find_all('article')\n",
    "id_1 = [id_param['id'] for id_param in data_html]"
   ]
  },
  {
   "cell_type": "code",
   "execution_count": 19,
   "metadata": {},
   "outputs": [
    {
     "data": {
      "text/plain": [
       "['post-27551',\n",
       " 'post-27536',\n",
       " 'post-35938',\n",
       " 'post-27224',\n",
       " 'post-23135',\n",
       " 'post-18846',\n",
       " 'post-21613',\n",
       " 'post-22105',\n",
       " 'post-20137',\n",
       " 'post-24642',\n",
       " 'post-27548',\n",
       " 'post-17784',\n",
       " 'post-18851',\n",
       " 'post-23673',\n",
       " 'post-24924',\n",
       " 'post-16433',\n",
       " 'post-21767',\n",
       " 'post-15506',\n",
       " 'post-21194',\n",
       " 'post-12075',\n",
       " 'post-13815',\n",
       " 'post-18081',\n",
       " 'post-13816',\n",
       " 'post-13809',\n",
       " 'post-15417',\n",
       " 'post-15036',\n",
       " 'post-13270',\n",
       " 'post-12140',\n",
       " 'post-6966',\n",
       " 'post-13273']"
      ]
     },
     "execution_count": 19,
     "metadata": {},
     "output_type": "execute_result"
    }
   ],
   "source": [
    "id_1"
   ]
  },
  {
   "cell_type": "code",
   "execution_count": null,
   "metadata": {},
   "outputs": [],
   "source": []
  }
 ],
 "metadata": {
  "kernelspec": {
   "display_name": "Python 3",
   "language": "python",
   "name": "python3"
  },
  "language_info": {
   "codemirror_mode": {
    "name": "ipython",
    "version": 3
   },
   "file_extension": ".py",
   "mimetype": "text/x-python",
   "name": "python",
   "nbconvert_exporter": "python",
   "pygments_lexer": "ipython3",
   "version": "3.10.9"
  }
 },
 "nbformat": 4,
 "nbformat_minor": 2
}
